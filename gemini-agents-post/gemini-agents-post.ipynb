{
  "nbformat": 4,
  "nbformat_minor": 0,
  "metadata": {
    "colab": {
      "provenance": []
    },
    "kernelspec": {
      "name": "python3",
      "display_name": "Python 3"
    },
    "language_info": {
      "name": "python"
    }
  },
  "cells": [
    {
      "cell_type": "markdown",
      "source": [
        "# Multiagentes de IA ◦ Criador de Post para Instagram com Gemini"
      ],
      "metadata": {
        "id": "V9Qzowg5y4C_"
      }
    },
    {
      "cell_type": "markdown",
      "source": [
        "## Instalar e Importar Pacotes"
      ],
      "metadata": {
        "id": "MLiVLe_E2Quo"
      }
    },
    {
      "cell_type": "code",
      "source": [
        "%pip -q install google-genai\n",
        "!pip install -q google-adk #framework de agentes do google"
      ],
      "metadata": {
        "id": "UCCbECexLk_h",
        "colab": {
          "base_uri": "https://localhost:8080/"
        },
        "outputId": "f52ab126-c743-4752-c45b-13dd6ff559af"
      },
      "execution_count": 1,
      "outputs": [
        {
          "output_type": "stream",
          "name": "stdout",
          "text": [
            "\u001b[2K   \u001b[90m━━━━━━━━━━━━━━━━━━━━━━━━━━━━━━━━━━━━━━━━\u001b[0m \u001b[32m1.2/1.2 MB\u001b[0m \u001b[31m14.5 MB/s\u001b[0m eta \u001b[36m0:00:00\u001b[0m\n",
            "\u001b[2K   \u001b[90m━━━━━━━━━━━━━━━━━━━━━━━━━━━━━━━━━━━━━━━━\u001b[0m \u001b[32m232.1/232.1 kB\u001b[0m \u001b[31m15.7 MB/s\u001b[0m eta \u001b[36m0:00:00\u001b[0m\n",
            "\u001b[2K   \u001b[90m━━━━━━━━━━━━━━━━━━━━━━━━━━━━━━━━━━━━━━━━\u001b[0m \u001b[32m95.2/95.2 kB\u001b[0m \u001b[31m7.1 MB/s\u001b[0m eta \u001b[36m0:00:00\u001b[0m\n",
            "\u001b[2K   \u001b[90m━━━━━━━━━━━━━━━━━━━━━━━━━━━━━━━━━━━━━━━━\u001b[0m \u001b[32m217.1/217.1 kB\u001b[0m \u001b[31m14.7 MB/s\u001b[0m eta \u001b[36m0:00:00\u001b[0m\n",
            "\u001b[2K   \u001b[90m━━━━━━━━━━━━━━━━━━━━━━━━━━━━━━━━━━━━━━━━\u001b[0m \u001b[32m334.1/334.1 kB\u001b[0m \u001b[31m19.6 MB/s\u001b[0m eta \u001b[36m0:00:00\u001b[0m\n",
            "\u001b[2K   \u001b[90m━━━━━━━━━━━━━━━━━━━━━━━━━━━━━━━━━━━━━━━━\u001b[0m \u001b[32m125.1/125.1 kB\u001b[0m \u001b[31m9.1 MB/s\u001b[0m eta \u001b[36m0:00:00\u001b[0m\n",
            "\u001b[2K   \u001b[90m━━━━━━━━━━━━━━━━━━━━━━━━━━━━━━━━━━━━━━━━\u001b[0m \u001b[32m65.8/65.8 kB\u001b[0m \u001b[31m4.8 MB/s\u001b[0m eta \u001b[36m0:00:00\u001b[0m\n",
            "\u001b[2K   \u001b[90m━━━━━━━━━━━━━━━━━━━━━━━━━━━━━━━━━━━━━━━━\u001b[0m \u001b[32m119.0/119.0 kB\u001b[0m \u001b[31m7.7 MB/s\u001b[0m eta \u001b[36m0:00:00\u001b[0m\n",
            "\u001b[2K   \u001b[90m━━━━━━━━━━━━━━━━━━━━━━━━━━━━━━━━━━━━━━━━\u001b[0m \u001b[32m194.9/194.9 kB\u001b[0m \u001b[31m15.4 MB/s\u001b[0m eta \u001b[36m0:00:00\u001b[0m\n",
            "\u001b[2K   \u001b[90m━━━━━━━━━━━━━━━━━━━━━━━━━━━━━━━━━━━━━━━━\u001b[0m \u001b[32m62.5/62.5 kB\u001b[0m \u001b[31m4.4 MB/s\u001b[0m eta \u001b[36m0:00:00\u001b[0m\n",
            "\u001b[2K   \u001b[90m━━━━━━━━━━━━━━━━━━━━━━━━━━━━━━━━━━━━━━━━\u001b[0m \u001b[32m103.3/103.3 kB\u001b[0m \u001b[31m5.6 MB/s\u001b[0m eta \u001b[36m0:00:00\u001b[0m\n",
            "\u001b[2K   \u001b[90m━━━━━━━━━━━━━━━━━━━━━━━━━━━━━━━━━━━━━━━━\u001b[0m \u001b[32m44.4/44.4 kB\u001b[0m \u001b[31m3.0 MB/s\u001b[0m eta \u001b[36m0:00:00\u001b[0m\n",
            "\u001b[2K   \u001b[90m━━━━━━━━━━━━━━━━━━━━━━━━━━━━━━━━━━━━━━━━\u001b[0m \u001b[32m72.0/72.0 kB\u001b[0m \u001b[31m5.2 MB/s\u001b[0m eta \u001b[36m0:00:00\u001b[0m\n",
            "\u001b[?25h"
          ]
        }
      ]
    },
    {
      "cell_type": "code",
      "execution_count": 21,
      "metadata": {
        "id": "aePV2bdfDeoW"
      },
      "outputs": [],
      "source": [
        "from google.adk.agents import Agent\n",
        "from google.adk.runners import Runner\n",
        "from google.adk.sessions import InMemorySessionService\n",
        "from google.adk.tools import google_search\n",
        "from google.genai import types  # Para criar conteúdos (Content e Part)\n",
        "from datetime import date\n",
        "import textwrap # Para formatar melhor a saída de texto\n",
        "from IPython.display import display, Markdown # Para exibir texto formatado no Colab\n",
        "import requests # Para fazer requisições HTTP\n",
        "import warnings\n",
        "\n",
        "warnings.filterwarnings(\"ignore\")"
      ]
    },
    {
      "cell_type": "markdown",
      "source": [
        "## Configurar a API Key do Google Gemini / Acesso ao Google Secret"
      ],
      "metadata": {
        "id": "AcX_Vu8K2IIP"
      }
    },
    {
      "cell_type": "code",
      "source": [
        "import os\n",
        "from google.colab import userdata\n",
        "\n",
        "os.environ[\"GOOGLE_API_KEY\"] = userdata.get('GOOGLE_API_KEY')"
      ],
      "metadata": {
        "id": "NfCqHo1tLk8P"
      },
      "execution_count": 3,
      "outputs": []
    },
    {
      "cell_type": "markdown",
      "source": [
        "## Configurar o cliente da SDK do Gemini"
      ],
      "metadata": {
        "id": "MzYAF5sD2Yne"
      }
    },
    {
      "cell_type": "code",
      "source": [
        "from google import genai\n",
        "\n",
        "client = genai.Client()\n",
        "MODEL_ID = \"gemini-2.0-flash\""
      ],
      "metadata": {
        "id": "bV4w0H5TLk5g"
      },
      "execution_count": 23,
      "outputs": []
    },
    {
      "cell_type": "code",
      "source": [
        "# Lista os modelos disponíveis\n",
        "for model in client.models.list():\n",
        "  print(model.name)"
      ],
      "metadata": {
        "colab": {
          "base_uri": "https://localhost:8080/"
        },
        "id": "hsUtu337t9kl",
        "outputId": "ef040b37-052d-41dd-ab06-68e6233457f8"
      },
      "execution_count": 27,
      "outputs": [
        {
          "output_type": "stream",
          "name": "stdout",
          "text": [
            "models/embedding-gecko-001\n",
            "models/gemini-1.0-pro-vision-latest\n",
            "models/gemini-pro-vision\n",
            "models/gemini-1.5-pro-latest\n",
            "models/gemini-1.5-pro-001\n",
            "models/gemini-1.5-pro-002\n",
            "models/gemini-1.5-pro\n",
            "models/gemini-1.5-flash-latest\n",
            "models/gemini-1.5-flash-001\n",
            "models/gemini-1.5-flash-001-tuning\n",
            "models/gemini-1.5-flash\n",
            "models/gemini-1.5-flash-002\n",
            "models/gemini-1.5-flash-8b\n",
            "models/gemini-1.5-flash-8b-001\n",
            "models/gemini-1.5-flash-8b-latest\n",
            "models/gemini-1.5-flash-8b-exp-0827\n",
            "models/gemini-1.5-flash-8b-exp-0924\n",
            "models/gemini-2.5-pro-exp-03-25\n",
            "models/gemini-2.5-pro-preview-03-25\n",
            "models/gemini-2.5-flash-preview-04-17\n",
            "models/gemini-2.5-flash-preview-04-17-thinking\n",
            "models/gemini-2.5-pro-preview-05-06\n",
            "models/gemini-2.0-flash-exp\n",
            "models/gemini-2.0-flash\n",
            "models/gemini-2.0-flash-001\n",
            "models/gemini-2.0-flash-exp-image-generation\n",
            "models/gemini-2.0-flash-lite-001\n",
            "models/gemini-2.0-flash-lite\n",
            "models/gemini-2.0-flash-preview-image-generation\n",
            "models/gemini-2.0-flash-lite-preview-02-05\n",
            "models/gemini-2.0-flash-lite-preview\n",
            "models/gemini-2.0-pro-exp\n",
            "models/gemini-2.0-pro-exp-02-05\n",
            "models/gemini-exp-1206\n",
            "models/gemini-2.0-flash-thinking-exp-01-21\n",
            "models/gemini-2.0-flash-thinking-exp\n",
            "models/gemini-2.0-flash-thinking-exp-1219\n",
            "models/learnlm-2.0-flash-experimental\n",
            "models/gemma-3-1b-it\n",
            "models/gemma-3-4b-it\n",
            "models/gemma-3-12b-it\n",
            "models/gemma-3-27b-it\n",
            "models/embedding-001\n",
            "models/text-embedding-004\n",
            "models/gemini-embedding-exp-03-07\n",
            "models/gemini-embedding-exp\n",
            "models/aqa\n",
            "models/imagen-3.0-generate-002\n",
            "models/gemini-2.0-flash-live-001\n"
          ]
        }
      ]
    },
    {
      "cell_type": "markdown",
      "source": [
        "## Função auxiliar que envia uma mensagem para um agente via Runner e retorna a resposta final"
      ],
      "metadata": {
        "id": "aHScccvi5ivd"
      }
    },
    {
      "cell_type": "code",
      "source": [
        "# Função auxiliar que envia uma mensagem para um agente via Runner e retorna a resposta final\n",
        "def call_agent(agent: Agent, message_text: str) -> str:\n",
        "    # Cria um serviço de sessão em memória\n",
        "    session_service = InMemorySessionService()\n",
        "    # Cria uma nova sessão (você pode personalizar os IDs conforme necessário)\n",
        "    session = session_service.create_session(app_name=agent.name, user_id=\"user1\", session_id=\"session1\")\n",
        "    # Cria um Runner para o agente\n",
        "    runner = Runner(agent=agent, app_name=agent.name, session_service=session_service)\n",
        "    # Cria o conteúdo da mensagem de entrada\n",
        "    content = types.Content(role=\"user\", parts=[types.Part(text=message_text)])\n",
        "\n",
        "    final_response = \"\"\n",
        "    # Itera assincronamente pelos eventos retornados durante a execução do agente\n",
        "    for event in runner.run(user_id=\"user1\", session_id=\"session1\", new_message=content):\n",
        "        if event.is_final_response():\n",
        "          for part in event.content.parts:\n",
        "            if part.text is not None:\n",
        "              final_response += part.text\n",
        "              final_response += \"\\n\"\n",
        "    return final_response"
      ],
      "metadata": {
        "id": "_xP4lWhsS5ko"
      },
      "execution_count": 5,
      "outputs": []
    },
    {
      "cell_type": "markdown",
      "source": [
        "##  Função para exibir texto formatado em Markdown no Colab"
      ],
      "metadata": {
        "id": "74JE-agG5mUG"
      }
    },
    {
      "cell_type": "code",
      "source": [
        "# Função auxiliar para exibir texto formatado em Markdown no Colab\n",
        "def to_markdown(text):\n",
        "  text = text.replace('•', '  *')\n",
        "  return Markdown(textwrap.indent(text, '> ', predicate=lambda _: True))"
      ],
      "metadata": {
        "id": "8dosiodaxfFR"
      },
      "execution_count": 6,
      "outputs": []
    },
    {
      "cell_type": "markdown",
      "source": [
        "## Agente 1: Pesquisador de Notícias"
      ],
      "metadata": {
        "id": "56ZLbHSt5pry"
      }
    },
    {
      "cell_type": "code",
      "source": [
        "##########################################\n",
        "# --- Agente 1: Pesquisador de Notícias --- #\n",
        "##########################################\n",
        "def agente_pesquisador(topico, data_de_hoje):\n",
        "\n",
        "    pesquisador = Agent(\n",
        "        name=\"agente_pesquisador\",\n",
        "        model=\"gemini-2.0-flash\",\n",
        "        instruction=\"\"\"\n",
        "        Você é um assistente de pesquisa. A sua tarefa é usar a ferramenta de busca do google (google_search)\n",
        "        para recuperar as últimas notícias de lançamentos muito relevantes sobre o tópico abaixo.\n",
        "        Foque em no máximo 5 lançamentos relevantes, com base na quantidade e entusiasmo das notícias sobre ele.\n",
        "        Se um tema tiver poucas notícias ou reações entusiasmadas, é possível que ele não seja tão relevante assim\n",
        "        e pode ser substituído por outro que tenha mais.\n",
        "        Esses lançamentos relevantes devem ser atuais, de no máximo um mês antes da data de hoje.\n",
        "        \"\"\",\n",
        "        description=\"Agente que busca informações no Google\",\n",
        "        tools=[google_search]\n",
        "    )\n",
        "\n",
        "    entrada_do_agente_pesquisador = f\"Tópico: {topico}\\nData de hoje: {data_de_hoje}\"\n",
        "\n",
        "    lancamentos = call_agent(pesquisador, entrada_do_agente_pesquisador)\n",
        "    return lancamentos"
      ],
      "metadata": {
        "id": "o8bqIfi_DyH8"
      },
      "execution_count": 33,
      "outputs": []
    },
    {
      "cell_type": "markdown",
      "source": [
        "## Agente 2: Planejador de posts"
      ],
      "metadata": {
        "id": "upsnByi-52b8"
      }
    },
    {
      "cell_type": "code",
      "source": [
        "################################################\n",
        "# --- Agente 2: Planejador de posts --- #\n",
        "################################################\n",
        "def agente_planejador(topico, lancamentos_buscados):\n",
        "    planejador = Agent(\n",
        "        name=\"agente_planejador\",\n",
        "        model=\"gemini-2.0-flash\",\n",
        "        # Inserir as instruções do Agente Planejador #################################################\n",
        "        instruction=\"\"\"\n",
        "        Você é um planejador de conteúdo, especialista em redes sociais. Com base na lista de\n",
        "        lançamentos mais recentes e relevantes pesquisador, você deve:\n",
        "        usar a ferramenta de busca do Google (google_search) para criar um plano sobre\n",
        "        quais são os pontos mais relevantes que poderíamos abordar em um post sobre\n",
        "        cada um deles. Você também pode usar o (google_search) para encontrar mais\n",
        "        informações sobre os temas e aprofundar.\n",
        "        Ao final, você irá escolher o tema mais relevante entre eles com base nas suas pesquisas\n",
        "        e retornar esse tema, seus pontos mais relevantes, e um plano com os assuntos\n",
        "        a serem abordados no post que será escrito posteriormente.\n",
        "        \"\"\",\n",
        "        description=\"Agente que planeja posts\",\n",
        "        tools=[google_search]\n",
        "    )\n",
        "\n",
        "    entrada_do_agente_planejador = f\"Tópico:{topico}\\nLançamentos buscados: {lancamentos_buscados}\"\n",
        "    # Executa o agente\n",
        "    plano_do_post = call_agent(planejador, entrada_do_agente_planejador)\n",
        "    return plano_do_post"
      ],
      "metadata": {
        "id": "y3VO1uo5_ghO"
      },
      "execution_count": 34,
      "outputs": []
    },
    {
      "cell_type": "markdown",
      "source": [
        "## Agente 3: Redator do Post"
      ],
      "metadata": {
        "id": "4R4RL2CI59RY"
      }
    },
    {
      "cell_type": "code",
      "source": [
        "######################################\n",
        "# --- Agente 3: Redator do Post --- #\n",
        "######################################\n",
        "def agente_redator(topico, plano_de_post):\n",
        "    redator = Agent(\n",
        "        name=\"agente_redator\",\n",
        "        model=\"gemini-2.0-flash\",\n",
        "        instruction=\"\"\"\n",
        "            Você é um Redator Criativo especializado em criar posts virais para redes sociais.\n",
        "            Você escreve posts para a empresa Alura, a maior escola online de tecnologia do Brasil.\n",
        "            Utilize o tema fornecido no plano de post e os pontos mais relevantes fornecidos e, com base nisso,\n",
        "            escreva um rascunho de post para Instagram sobre o tema indicado.\n",
        "            O post deve ser engajador, informativo, com linguagem simples e incluir 2 a 4 hashtags no final.\n",
        "            \"\"\",\n",
        "        description=\"Agente redator de posts engajadores para Instagram\"\n",
        "    )\n",
        "    entrada_do_agente_redator = f\"Tópico: {topico}\\nPlano de post: {plano_de_post}\"\n",
        "    # Executa o agente\n",
        "    rascunho = call_agent(redator, entrada_do_agente_redator)\n",
        "    return rascunho"
      ],
      "metadata": {
        "id": "uOqlg2TRLVh1"
      },
      "execution_count": 35,
      "outputs": []
    },
    {
      "cell_type": "markdown",
      "source": [
        "## Agente 4: Revisor de Qualidade"
      ],
      "metadata": {
        "id": "Vb2GmVxx6DG9"
      }
    },
    {
      "cell_type": "code",
      "source": [
        "##########################################\n",
        "# --- Agente 4: Revisor de Qualidade --- #\n",
        "##########################################\n",
        "def agente_revisor(topico, rascunho_gerado):\n",
        "    revisor = Agent(\n",
        "        name=\"agente_revisor\",\n",
        "        model=\"gemini-2.0-flash\",\n",
        "        instruction=\"\"\"\n",
        "            Você é um Editor e Revisor de Conteúdo meticuloso, especializado em posts para redes sociais, com foco no Instagram.\n",
        "            Por ter um público jovem, entre 18 e 30 anos, use um tom de escrita adequado.\n",
        "            Revise o rascunho de post de Instagram abaixo sobre o tópico indicado, verificando clareza, concisão, correção e tom.\n",
        "            Após revisar, sempre forneça um resumo da sua avaliação. Se o rascunho estiver bom, diga 'O rascunho está ótimo e pronto para publicar!'.\n",
        "            Caso haja problemas, aponte-os e sugira melhorias.\n",
        "            \"\"\",\n",
        "        description=\"Agente revisor de post para redes sociais.\"\n",
        "    )\n",
        "    entrada_do_agente_revisor = f\"Tópico: {topico}\\nRascunho: {rascunho_gerado}\"\n",
        "    # Executa o agente\n",
        "    texto_revisado = call_agent(revisor, entrada_do_agente_revisor)\n",
        "    return texto_revisado"
      ],
      "metadata": {
        "id": "_aTb1SdkLeT6"
      },
      "execution_count": 36,
      "outputs": []
    },
    {
      "cell_type": "markdown",
      "source": [
        "## Executando as Tarefas"
      ],
      "metadata": {
        "id": "KItRVtGH6Hvi"
      }
    },
    {
      "cell_type": "code",
      "source": [
        "data_de_hoje = date.today().strftime(\"%d/%m/%Y\")\n",
        "\n",
        "print(\"🚀 Iniciando o Sistema de Criação de Posts para Instagram com 4 Agentes...\\n\")\n",
        "\n",
        "# --- Obter o Tópico do Usuário ---\n",
        "topico = input(\"❓ Por favor, digite o TÓPICO sobre o qual você quer criar o post de tendências: \")\n",
        "\n",
        "# Inserir lógica do sistema de agentes ################################################\n",
        "if not topico:\n",
        "    print(\"Você esqueceu de digitar o tópico!\")\n",
        "else:\n",
        "    print(f\"Maravilha! Vamos então criar o post sobre novidades em {topico}\")\n",
        "\n",
        "    lancamentos_buscados = agente_pesquisador(topico, data_de_hoje)\n",
        "    print(\"\\n--- 🔎 Resultado do Agente 1 (Pesquisador) ---\\n\")\n",
        "    display(to_markdown(lancamentos_buscados))\n",
        "    print(\"--------------------------------------------------------------\")\n",
        "\n",
        "    plano_de_post = agente_planejador(topico, lancamentos_buscados)\n",
        "    print(\"\\n--- 📋 Resultado do Agente 2 (Planejador) ---\\n\")\n",
        "    display(to_markdown(plano_de_post))\n",
        "    print(\"--------------------------------------------------------------\")\n",
        "\n",
        "    rascunho_de_post = agente_redator(topico, plano_de_post)\n",
        "    print(\"\\n--- 📝 Resultado do Agente 3 (Redator) ---\\n\")\n",
        "    display(to_markdown(rascunho_de_post))\n",
        "    print(\"--------------------------------------------------------------\")\n",
        "\n",
        "    post_final = agente_revisor(topico, rascunho_de_post)\n",
        "    print(\"\\n--- ✔️ Resultado do Agente 4 (Revisor) ---\\n\")\n",
        "    display(to_markdown(post_final))\n",
        "    print(\"--------------------------------------------------------------\")"
      ],
      "metadata": {
        "colab": {
          "base_uri": "https://localhost:8080/",
          "height": 1000
        },
        "id": "6xzI6LKzxxnN",
        "outputId": "9506ba07-2a14-42bc-c538-64645ca94b97"
      },
      "execution_count": 37,
      "outputs": [
        {
          "output_type": "stream",
          "name": "stdout",
          "text": [
            "🚀 Iniciando o Sistema de Criação de Posts para Instagram com 4 Agentes...\n",
            "\n",
            "❓ Por favor, digite o TÓPICO sobre o qual você quer criar o post de tendências: artistas que se destacam na cena de jazz contemporâneo\n",
            "Maravilha! Vamos então criar o post sobre novidades em artistas que se destacam na cena de jazz contemporâneo\n",
            "\n",
            "--- 🔎 Resultado do Agente 1 (Pesquisador) ---\n",
            "\n"
          ]
        },
        {
          "output_type": "display_data",
          "data": {
            "text/plain": [
              "<IPython.core.display.Markdown object>"
            ],
            "text/markdown": "> Para identificar artistas de destaque no jazz contemporâneo com lançamentos recentes, vou realizar algumas buscas no Google. O objetivo é encontrar notícias e artigos sobre os lançamentos de álbuns ou singles mais comentados e aclamados do último mês.\n> \n> \n> Com base nas buscas realizadas, destaco alguns artistas e lançamentos que parecem promissores na cena do jazz contemporâneo em maio de 2025:\n> \n> 1.  **Ambrose Akinmusire**: O álbum \"Honey From a Winter Stone\" (Nonesuch Records) tem sido apontado como um dos melhores álbuns de jazz de 2025 até o momento (fonte: [2], [15]).\n> \n> 2.  **Gerald Clayton**: Seu terceiro álbum para a Blue Note, \"Ones & Twos,\" explora territórios sonoros interessantes com a produção de Kassa Overall e influências de turntablism (fonte: [13]).\n> \n> 3.  **Brian Charette**: \"Borderless\" (SteepleChase), o terceiro álbum solo de órgão Hammond B-3 de Charette, está sendo elogiado por suas linhas angulares e propulsão rítmica (fonte: [13]).\n> \n> 4.  **Chief Adjuah (anteriormente Christian Scott)**: Reconhecido como um dos músicos mais inovadores do jazz contemporâneo, criador da \"Stretch Music\" (fonte: [23]).\n> \n> 5.  **Samara Joy**: Vencedora do Grammy 2025 na categoria de jazz, tem se destacado com o álbum \"Portrait\" (2024) e apresentações ao vivo (fonte: [21]).\n> \n> É importante notar que muitos festivais de jazz estão programados para os próximos meses, apresentando uma variedade de artistas consagrados e emergentes (fontes: [1], [4], [5], [7], [9], [11], [12], [17], [18], [22]). Além disso, publicações especializadas como a JazzTimes continuam a destacar lançamentos importantes ao longo do ano (fonte: [13]).\n> \n"
          },
          "metadata": {}
        },
        {
          "output_type": "stream",
          "name": "stdout",
          "text": [
            "--------------------------------------------------------------\n",
            "\n",
            "--- 📋 Resultado do Agente 2 (Planejador) ---\n",
            "\n"
          ]
        },
        {
          "output_type": "display_data",
          "data": {
            "text/plain": [
              "<IPython.core.display.Markdown object>"
            ],
            "text/markdown": "> Com base nas informações fornecidas e em minhas habilidades como planejador de conteúdo especializado em redes sociais, elaborei um plano para cada um dos artistas mencionados, destacando os pontos mais relevantes para um possível post e usando a ferramenta de busca para aprofundar o conhecimento sobre cada um.\n> \n> **1. Ambrose Akinmusire:**\n> \n> *   **Pontos Relevantes:**\n>     *   Álbum \"Honey From a Winter Stone\" (Nonesuch Records) amplamente considerado um dos melhores de 2025.\n>     *   Reconhecimento da crítica especializada.\n>     *   Estilo inovador e abordagem única ao jazz contemporâneo.\n> *   **Plano de Conteúdo:**\n>     *   Introdução: Apresentar Ambrose Akinmusire como um dos principais nomes do jazz atual.\n>     *   Destaque do álbum: Focar em \"Honey From a Winter Stone\", mencionando a gravadora e o impacto do álbum.\n>     *   Repercussão: Citar críticas e prêmios recebidos (se houver).\n>     *   Estilo musical: Descrever sua sonoridade, enfatizando a inovação.\n>     *   Chamada para ação: Convidar os seguidores a ouvir o álbum e compartilhar suas impressões.\n>     *   `google_search.search(queries=[\"Honey From a Winter Stone review\", \"Ambrose Akinmusire estilo musical\"])`\n> \n> **2. Gerald Clayton:**\n> \n> *   **Pontos Relevantes:**\n>     *   Álbum \"Ones & Twos\" (Blue Note) explora novas sonoridades com produção de Kassa Overall.\n>     *   Influências de turntablism no jazz.\n>     *   Evolução na carreira do artista.\n> *   **Plano de Conteúdo:**\n>     *   Introdução: Apresentar Gerald Clayton como um artista em constante evolução.\n>     *   Destaque do álbum: \"Ones & Twos\" e a colaboração com Kassa Overall.\n>     *   Inovação: Explorar a influência do turntablism e como isso se manifesta no jazz.\n>     *   Blue Note Records: Mencionar a importância da gravadora na cena do jazz.\n>     *   Chamada para ação: Incentivar os seguidores a descobrir o álbum e a comentar sobre a fusão de estilos.\n>     *   `google_search.search(queries=[\"Gerald Clayton Ones & Twos review\", \"Gerald Clayton turntablism jazz\"])`\n> \n> **3. Brian Charette:**\n> \n> *   **Pontos Relevantes:**\n>     *   Álbum \"Borderless\" (SteepleChase) focado no órgão Hammond B-3.\n>     *   Reconhecimento pelas linhas angulares e ritmo pulsante.\n>     *   Contribuição para a música de órgão no jazz.\n> *   **Plano de Conteúdo:**\n>     *   Introdução: Apresentar Brian Charette como um mestre do órgão Hammond B-3.\n>     *   Destaque do álbum: \"Borderless\" e a sonoridade única do órgão.\n>     *   Estilo musical: Descrever as linhas angulares e o ritmo que o caracterizam.\n>     *   SteepleChase Records: Mencionar a relevância da gravadora no jazz.\n>     *   Chamada para ação: Perguntar aos seguidores se eles apreciam o som do órgão no jazz e convidá-los a ouvir \"Borderless\".\n>     *   `google_search.search(queries=[\"Brian Charette Borderless review\", \"Brian Charette órgão Hammond B-3 jazz\"])`\n> \n> **4. Chief Adjuah (anteriormente Christian Scott):**\n> \n> *   **Pontos Relevantes:**\n>     *   Pioneiro da \"Stretch Music\".\n>     *   Um dos músicos mais inovadores do jazz contemporâneo.\n>     *   Contribuições para a evolução do gênero.\n> *   **Plano de Conteúdo:**\n>     *   Introdução: Apresentar Chief Adjuah como um visionário do jazz.\n>     *   Stretch Music: Explicar o conceito e a importância dessa inovação.\n>     *   Legado: Destacar suas contribuições para a música.\n>     *   Estilo musical: Descrever a sonoridade única e a visão vanguardista.\n>     *   Chamada para ação: Convidar os seguidores a explorar a \"Stretch Music\" e a discutir o futuro do jazz.\n>     *   `google_search.search(queries=[\"Chief Adjuah Stretch Music\", \"Chief Adjuah inovação jazz\"])`\n> \n> **5. Samara Joy:**\n> \n> *   **Pontos Relevantes:**\n>     *   Vencedora do Grammy 2025 na categoria de jazz.\n>     *   Álbum \"Portrait\" (2024) aclamado.\n>     *   Talento vocal e performances ao vivo marcantes.\n> *   **Plano de Conteúdo:**\n>     *   Introdução: Apresentar Samara Joy como uma das vozes mais promissoras do jazz.\n>     *   Prêmio Grammy: Destacar a conquista e o reconhecimento da indústria.\n>     *   Álbum \"Portrait\": Mencionar o sucesso do álbum e suas qualidades.\n>     *   Talento vocal: Elogiar a técnica e a expressividade da cantora.\n>     *   Chamada para ação: Convidar os seguidores a ouvir \"Portrait\" e a acompanhar a carreira de Samara Joy.\n>     *   `google_search.search(queries=[\"Samara Joy Grammy 2025\", \"Samara Joy Portrait album review\"])`\n> \n> **Escolha do Tema Mais Relevante e Plano Detalhado:**\n> \n> Considerando o impacto recente, o reconhecimento da crítica e o frescor da proposta, o tema mais relevante para um post seria **Samara Joy**.\n> \n> **Plano Detalhado para Post sobre Samara Joy:**\n> \n> 1.  **Título:** \"Samara Joy: A Voz que Conquistou o Jazz e o Grammy\"\n> \n> 2.  **Introdução (2-3 frases):**\n>     *   Apresentar Samara Joy como a mais recente sensação do jazz vocal.\n>     *   Mencionar sua vitória no Grammy 2025 como um marco em sua carreira.\n>     *   Destacar o álbum \"Portrait\" como um trabalho aclamado pela crítica e pelo público.\n> \n> 3.  **Corpo do Post (4-6 parágrafos):**\n>     *   **Grammy 2025:** Detalhar a importância do prêmio e como ele impulsionou a carreira de Samara Joy. Incluir citações da cantora sobre a premiação, se disponíveis.\n>     *   **Álbum \"Portrait\":**\n>         *   Analisar o álbum, mencionando as faixas de destaque e o estilo musical.\n>         *   Citar trechos de resenhas que elogiem a voz e a interpretação de Samara Joy.\n>     *   **Talento Vocal:**\n>         *   Descrever as qualidades vocais de Samara Joy, como timbre, técnica e expressividade.\n>         *   Compará-la com outras grandes cantoras de jazz, mostrando sua originalidade.\n>     *   **Performances ao Vivo:**\n>         *   Mencionar apresentações marcantes da cantora, destacando sua presença de palco e interação com o público.\n>         *   Incluir vídeos ou trechos de shows, se possível.\n> \n> 4.  **Chamada para Ação (1-2 frases):**\n>     *   Convidar os seguidores a ouvir o álbum \"Portrait\" nas plataformas digitais.\n>     *   Incentivar o público a acompanhar a carreira de Samara Joy e a compartilhar suas impressões sobre a cantora.\n>     *   Perguntar qual a música preferida do álbum.\n> \n> 5.  **Recursos Visuais:**\n>     *   Foto de alta qualidade de Samara Joy recebendo o Grammy ou em uma performance.\n>     *   Capa do álbum \"Portrait\".\n>     *   Vídeos curtos de apresentações ao vivo.\n> \n> 6.  **Hashtags:**\n>     *   \\#SamaraJoy \\#JazzVocal \\#Grammy2025 \\#PortraitAlbum \\#JazzContemporâneo \\#NovaMúsica \\#MúsicaDeQualidade\n> \n> 7. **Google Search Keywords**\n> * `google_search.search(queries=[\"Samara Joy entrevista Grammy 2025\", \"Samara Joy melhores músicas Portrait album\", \"Samara Joy próximos shows\"])`\n> \n> Este plano detalhado fornecerá um post completo e informativo sobre Samara Joy, destacando seus principais feitos e incentivando o público a conhecer sua música.\n> \n"
          },
          "metadata": {}
        },
        {
          "output_type": "stream",
          "name": "stdout",
          "text": [
            "--------------------------------------------------------------\n",
            "\n",
            "--- 📝 Resultado do Agente 3 (Redator) ---\n",
            "\n"
          ]
        },
        {
          "output_type": "display_data",
          "data": {
            "text/plain": [
              "<IPython.core.display.Markdown object>"
            ],
            "text/markdown": "> Beleza! Com base no seu plano detalhado, aqui está um rascunho de post para o Instagram sobre Samara Joy:\n> \n> ✨ Samara Joy: A Voz que Conquistou o Jazz e o Grammy! ✨\n> \n> Preparem os ouvidos porque essa voz vai te encantar! 🎶 Samara Joy chegou para renovar o jazz vocal e já fez história ao levar o Grammy 2025 pra casa! 🏆\n> \n> Seu álbum \"Portrait\" é uma obra-prima que conquistou crítica e público. Cada faixa é um deleite, mostrando o talento e a paixão dessa artista incrível. ✨\n> \n> A vitória no Grammy não foi por acaso! Samara Joy tem um timbre único, técnica impecável e uma expressividade que arrepia. 🎤 Ela canta com a alma e encanta a todos com sua presença de palco.\n> \n> E as performances ao vivo? De tirar o fôlego! 🤩 Samara Joy domina o palco e interage com o público de um jeito que te faz sentir parte da música.\n> \n> Corre para ouvir \"Portrait\" nas plataformas digitais e prepare-se para se apaixonar! Qual sua música preferida do álbum? Conta pra gente nos comentários! 👇\n> \n> Não perca de vista essa estrela! ✨ Samara Joy é o futuro do jazz e promete emocionar o mundo com sua voz.\n> \n> \\#SamaraJoy \\#JazzVocal \\#Grammy2025 \\#PortraitAlbum \\#JazzContemporâneo\n> \n"
          },
          "metadata": {}
        },
        {
          "output_type": "stream",
          "name": "stdout",
          "text": [
            "--------------------------------------------------------------\n",
            "\n",
            "--- ✔️ Resultado do Agente 4 (Revisor) ---\n",
            "\n"
          ]
        },
        {
          "output_type": "display_data",
          "data": {
            "text/plain": [
              "<IPython.core.display.Markdown object>"
            ],
            "text/markdown": "> O rascunho está ótimo e pronto para publicar!\n"
          },
          "metadata": {}
        },
        {
          "output_type": "stream",
          "name": "stdout",
          "text": [
            "--------------------------------------------------------------\n"
          ]
        }
      ]
    }
  ]
}